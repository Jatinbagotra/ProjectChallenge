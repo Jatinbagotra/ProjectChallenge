{
 "cells": [
  {
   "attachments": {},
   "cell_type": "markdown",
   "metadata": {},
   "source": [
    "Python is a language which can be used across different applications including GUI progarms.\n",
    "There are many ways to create GUI application like ipywidgets,tkinter,Wxpython,jpython etc.\n",
    "Out of all the GUI methods, tkinter is the most commonly used method. It is a standard Python interface to the Tk GUI toolkit shipped with Python. Python with tkinter is the fastest and easiest way to create the GUI applications. Creating a GUI using tkinter is an easy task.\n",
    "\n",
    "Tkinter has a variety of commnly used GUI elements (like ,button,menus,lables,entry,areas etc.) ,these are called Widgets"
   ]
  },
  {
   "attachments": {},
   "cell_type": "markdown",
   "metadata": {},
   "source": [
    "Widgets\n",
    "Widgets are basic building blocks of GUI programming and are used to display information or get input from the user.Some are as follows\n"
   ]
  },
  {
   "attachments": {},
   "cell_type": "markdown",
   "metadata": {},
   "source": [
    "1.Button\n",
    "The Button widget is used to display buttons in your application\n",
    "\n",
    "2.Canvas\n",
    "The Canvas widget is used to draw shapes, such as lines, ovals, polygons and rectangles, in your application.\n",
    "\n",
    "3.Checkbutton\n",
    "The Checkbutton widget is used to display a number of options as checkboxes. The user can select multiple options at a time.\n",
    "\n",
    "4.Entry\n",
    "The Entry widget is used to display a single-line text field for accepting values from a user.\n",
    "\n",
    "5.Frame\n",
    "The Frame widget is used as a container widget to organize other widgets.\n",
    "\n",
    "6.Label\n",
    "The Label widget is used to provide a single-line caption for other widgets. It can also contain images.\n",
    "\n",
    "7.Listbox\n",
    "The Listbox widget is used to provide a list of options to a user.\n",
    "\n",
    "8.Menubutton\n",
    "The Menubutton widget is used to display menus in your application.\n",
    "\n",
    "9.Menu\n",
    "The Menu widget is used to provide various commands to a user. These commands are contained inside Menubutton.\n",
    "\n",
    "10.Message\n",
    "The Message widget is used to display multiline text fields for accepting values from a user.\n",
    "\n",
    "11.Radiobutton\n",
    "The Radiobutton widget is used to display a number of options as radio buttons. The user can select only one option at a time.\n",
    "\n",
    "12.Scale\n",
    "The Scale widget is used to provide a slider widget.\n",
    "\n",
    "13.Scrollbar\n",
    "The Scrollbar widget is used to add scrolling capability to various widgets, such as list boxes.\n",
    "\n",
    "14.Text\n",
    "The Text widget is used to display text in multiple lines.\n",
    "\n",
    "15.Toplevel\n",
    "The Toplevel widget is used to provide a separate window container.\n",
    "\n",
    "16.Spinbox\n",
    "The Spinbox widget is a variant of the standard Tkinter Entry widget, which can be used to select from a fixed number of values.\n",
    "\n",
    "17.PanedWindow\n",
    "A PanedWindow is a container widget that may contain any number of panes, arranged horizontally or vertically.\n",
    "\n",
    "18.LabelFrame\n",
    "A labelframe is a simple container widget. Its primary purpose is to act as a spacer or container for complex window layouts.\n",
    "\n",
    "19.tkMessageBox\n",
    "This module is used to display message boxes in your applications.\n"
   ]
  },
  {
   "cell_type": "code",
   "execution_count": 3,
   "metadata": {},
   "outputs": [],
   "source": [
    "from tkinter import *"
   ]
  },
  {
   "cell_type": "code",
   "execution_count": 23,
   "metadata": {},
   "outputs": [],
   "source": [
    "window=Tk()#creates the instance of tk class or window creation\n",
    "window.mainloop()#is a method on the main window which is used to execute the \n",
    "                #application infinitly till user interrupts or close it mannually"
   ]
  },
  {
   "cell_type": "code",
   "execution_count": 21,
   "metadata": {},
   "outputs": [],
   "source": [
    "root=Tk()\n",
    "root.geometry(\"750x450\")# it is used to set the size of tk window by default it \n",
    "                        #will appear on (150,150)\n",
    "root.mainloop()"
   ]
  },
  {
   "cell_type": "code",
   "execution_count": 22,
   "metadata": {},
   "outputs": [],
   "source": [
    "root=Tk()\n",
    "root.geometry(\"750x250+350+350\")# it is used to set the size of tk window now it \n",
    "                        #will appear on (350,350)\n",
    "root.mainloop()"
   ]
  },
  {
   "cell_type": "code",
   "execution_count": 27,
   "metadata": {},
   "outputs": [],
   "source": [
    "root=Tk()\n",
    "root.attributes('-fullscreen',True)#to set window as fullscreen\n",
    "root.mainloop()"
   ]
  },
  {
   "cell_type": "code",
   "execution_count": 29,
   "metadata": {},
   "outputs": [],
   "source": [
    "root=Tk()\n",
    "root.geometry(\"750x350\")\n",
    "root.title(\"this is my First Window\")#to set title of the window\n",
    "root.mainloop()"
   ]
  },
  {
   "cell_type": "code",
   "execution_count": 37,
   "metadata": {},
   "outputs": [],
   "source": [
    "#Creating a label widget and adding to the window\n",
    "root=Tk()\n",
    "root.geometry(\"750x350\")\n",
    "root.title(\"Adding label\")\n",
    "#creating a label widget\n",
    "mylabel=Label(root,text=\"hello students\")\n",
    "#place the label in the window\n",
    "mylabel.pack(pady=200)#used to place the widget in the window\n",
    "root.mainloop()"
   ]
  },
  {
   "cell_type": "code",
   "execution_count": 38,
   "metadata": {},
   "outputs": [],
   "source": [
    "#Creating a label and changing the foreground(font) and background color\n",
    "root=Tk()\n",
    "root.geometry(\"750x350\")\n",
    "root.title(\"Adding label\")\n",
    "#creating a label widget\n",
    "mylabel=Label(root,text=\"hello students\",foreground='white',background='black')\n",
    "#place the label in the window\n",
    "mylabel.pack(pady=50)#used to place the widget in the window\n",
    "root.mainloop()"
   ]
  },
  {
   "cell_type": "code",
   "execution_count": 40,
   "metadata": {},
   "outputs": [],
   "source": [
    "#creating two labels and placing it in the window\n",
    "\n",
    "root=Tk()\n",
    "root.geometry(\"750x550\")\n",
    "root.title(\"Adding label\")\n",
    "#creating a label widget\n",
    "mylabel1=Label(root,text=\"hello students\",background='pink')\n",
    "mylabel2=Label(root,text=\"NIET welcomes you all\",background='green')\n",
    "#place the label in the window\n",
    "mylabel1.pack(pady=50)\n",
    "mylabel2.pack(pady=120)\n",
    "root.mainloop()"
   ]
  },
  {
   "cell_type": "code",
   "execution_count": 5,
   "metadata": {},
   "outputs": [],
   "source": [
    "#placing the labels in the grid\n",
    "from tkinter import Tk,Label\n",
    "root=Tk()\n",
    "root.geometry(\"750x550\")\n",
    "root.title(\"Adding label\")\n",
    "#creating a label widget\n",
    "mylabel1=Label(root,text=\"hello students\",background='pink')\n",
    "mylabel2=Label(root,text=\"NIET welcomes you all\",background='green')\n",
    "#place the label in the window using grid\n",
    "mylabel1.grid(row=0,column=0)\n",
    "mylabel2.grid(row=0,column=1)\n",
    "root.mainloop()"
   ]
  },
  {
   "cell_type": "code",
   "execution_count": 4,
   "metadata": {},
   "outputs": [],
   "source": [
    "# creating and placing together\n",
    "root=Tk()\n",
    "root.geometry(\"750x550\")\n",
    "root.title(\"Adding label\")\n",
    "#creating a label widget\n",
    "mylabel1=Label(root,text=\"hello students\",background='pink').grid(row=0,column=0)\n",
    "mylabel2=Label(root,text=\"NIET welcomes you all\",background='green').grid(row=0,column=1)\n",
    "#place the label in the window using grid\n",
    "root.mainloop()"
   ]
  },
  {
   "cell_type": "code",
   "execution_count": 5,
   "metadata": {},
   "outputs": [],
   "source": [
    "#button widget: clickable to trigger the event\n",
    "root=Tk()\n",
    "root.geometry(\"750x550\")\n",
    "root.title(\"Button\")\n",
    "#creating a disabled button\n",
    "mybutton=Button(root,text='Click me',padx=30,state=DISABLED)\n",
    "mybutton.pack(pady=50)\n",
    "root.mainloop()\n",
    "\n"
   ]
  },
  {
   "cell_type": "code",
   "execution_count": 6,
   "metadata": {},
   "outputs": [],
   "source": [
    "#button widget: clickable to trigger the event\n",
    "root=Tk()\n",
    "root.geometry(\"750x550\")\n",
    "root.title(\"Button\")\n",
    "#creating a clickable button\n",
    "mybutton=Button(root,text='Click me',padx=30)\n",
    "mybutton.pack(pady=50)\n",
    "root.mainloop()"
   ]
  },
  {
   "cell_type": "code",
   "execution_count": 7,
   "metadata": {},
   "outputs": [],
   "source": [
    "#button widget: clickable to trigger the event\n",
    "root=Tk()\n",
    "root.geometry(\"750x550\")\n",
    "root.title(\"Event Trigering Button\")\n",
    "def click():#we have to create a function for the event to trigger by button\n",
    "    mylabel=Label(root,text=\"you clicked\",fg='white',bg='black',pady=20,font=25)\n",
    "    mylabel.pack()\n",
    "#command parameter has to be set as the crated function\n",
    "mybutton=Button(root,text='Click me',command=click,padx=30)\n",
    "mybutton.pack(pady=50)\n",
    "root.mainloop()"
   ]
  },
  {
   "cell_type": "code",
   "execution_count": 8,
   "metadata": {},
   "outputs": [],
   "source": [
    "#button click counter\n",
    "root=Tk()\n",
    "root.geometry(\"750x550\")\n",
    "root.title(\"counter Button\")\n",
    "counter=0\n",
    "def click():#we have to create a function for the event to trigger by button\n",
    "    global counter\n",
    "    global mylabel\n",
    "    counter=counter+1\n",
    "    #configure is used to attach a value with label\n",
    "    mylabel.configure(text=f'you clicked {counter} times')\n",
    "        \n",
    "mylabel=Label(root,text=\"no click\",fg='white',bg='black',pady=20,font=25)\n",
    "mylabel.pack()    \n",
    "mybutton=Button(root,text='Click me',command=click,padx=30,font=25)\n",
    "mybutton.pack(pady=50)\n",
    "root.mainloop()"
   ]
  },
  {
   "cell_type": "code",
   "execution_count": 9,
   "metadata": {},
   "outputs": [],
   "source": [
    "#button click counter with stop condition\n",
    "root=Tk()\n",
    "root.geometry(\"750x550\")\n",
    "root.title(\"counter Button\")\n",
    "counter=0\n",
    "def click():#we have to create a function for the event to trigger by button\n",
    "    global counter\n",
    "    global mylabel\n",
    "    counter=counter+1\n",
    "    #configure is used to attach a value with label\n",
    "    mylabel.configure(text=f'you clicked {counter} times')\n",
    "    if counter>10:\n",
    "        mybutton.configure(state=DISABLED)\n",
    "        mylabel.configure(text=\"Sorry!! No more clicks allowed\")\n",
    "    \n",
    "mylabel=Label(root,text=\"no click\",fg='white',bg='black',pady=20,font=25)\n",
    "mylabel.pack()    \n",
    "mybutton=Button(root,text='Click me',command=click,padx=30,font=25)\n",
    "mybutton.pack(pady=50)\n",
    "root.mainloop()"
   ]
  },
  {
   "cell_type": "code",
   "execution_count": 10,
   "metadata": {},
   "outputs": [],
   "source": [
    "#Entry widgets(text field): used to accept single line user inputs\n",
    "#create textbox to get data from user\n",
    "root=Tk()\n",
    "root.geometry(\"750x550\")\n",
    "root.title(\"Entry widget (textbox)\")\n",
    "#Entry function is used to create single line text box\n",
    "ent=Entry(root,borderwidth=5,width=30)\n",
    "ent.pack()\n",
    "root.mainloop()"
   ]
  },
  {
   "cell_type": "code",
   "execution_count": 11,
   "metadata": {},
   "outputs": [],
   "source": [
    "#we can change bg and fg color\n",
    "root=Tk()\n",
    "root.geometry(\"750x550\")\n",
    "root.title(\"Entry widget (textbox)\")\n",
    "#Entry function is used to create single line text box\n",
    "ent=Entry(root,borderwidth=5,width=30,fg='white',bg='black')\n",
    "ent.pack()\n",
    "root.mainloop()"
   ]
  },
  {
   "cell_type": "code",
   "execution_count": 13,
   "metadata": {},
   "outputs": [],
   "source": [
    "#to get data from textbox:get() method\n",
    "root=Tk()\n",
    "root.geometry(\"750x550\")\n",
    "root.title(\"Entry widget (textbox)\")\n",
    "ent=Entry(root,borderwidth=5,width=30,fg='white',bg='black')\n",
    "ent.pack()\n",
    "def click():\n",
    "    x=ent.get()\n",
    "    mylabel=Label(root,text=\"NIET WELCOMES: \"+x,width=120)\n",
    "    mylabel.pack()\n",
    "    ent.delete(0,END)#to remove data from textbox\n",
    "mybutton=Button(root,text=\"Enter\",command=click,width=20)\n",
    "mybutton.pack()\n",
    "root.mainloop()"
   ]
  },
  {
   "cell_type": "code",
   "execution_count": 14,
   "metadata": {},
   "outputs": [],
   "source": [
    "#to insert data in entry box: insert()\n",
    "root=Tk()\n",
    "root.geometry(\"750x550\")\n",
    "root.title(\"Entry widget (textbox)\")\n",
    "ent=Entry(root,borderwidth=5,width=30,fg='white',bg='black')\n",
    "ent.pack()\n",
    "ent.insert(0,\"Enter your Name\")\n",
    "def click():\n",
    "    x=ent.get()\n",
    "    mylabel=Label(root,text=\"NIET WELCOMES \"+x,width=120)\n",
    "    mylabel.pack()\n",
    "    ent.delete(0,END)#to remove data from textbox\n",
    "mybutton=Button(root,text=\"Enter\",command=click,width=20)\n",
    "mybutton.pack()\n",
    "root.mainloop()"
   ]
  },
  {
   "cell_type": "code",
   "execution_count": 15,
   "metadata": {},
   "outputs": [],
   "source": [
    "#text widget can be used for multi line user inputs \n",
    "root=Tk()\n",
    "root.geometry(\"750x550\")\n",
    "root.title(\"Text widget (textbox)\")\n",
    "txt=Text(root)\n",
    "txt.configure(bg='SteelBlue2',height=10)\n",
    "txt.pack()\n",
    "root.mainloop()\n"
   ]
  },
  {
   "cell_type": "code",
   "execution_count": 27,
   "metadata": {},
   "outputs": [],
   "source": [
    "#text widget insert,get and delete\n",
    "root=Tk()\n",
    "root.geometry(\"750x550\")\n",
    "root.title(\"Text widget (textbox)\")\n",
    "txt=Text(root)\n",
    "txt.configure(bg='SteelBlue2',height=2)\n",
    "txt.pack()\n",
    "txt.insert('1.0',\"Enter your Data\")\n",
    "name=''\n",
    "def submit():\n",
    "    global name\n",
    "    name=txt.get(\"1.0\",\"1.3\")#line.column\n",
    "    mylabel=Label(root,text=name,width=120)\n",
    "    mylabel.pack()\n",
    "    txt.delete('1.0','1.3')\n",
    "button=Button(root,text='submit',command=submit)\n",
    "button.pack()\n",
    "root.mainloop()"
   ]
  },
  {
   "cell_type": "code",
   "execution_count": 29,
   "metadata": {},
   "outputs": [],
   "source": [
    "# create  frame widget\n",
    "win=Tk() # instance of TK() frame \n",
    "win.geometry(\"750x250\")\n",
    "\n",
    "# create frame\n",
    "myframe=LabelFrame(win,text='MY frame',padx=5,pady=5)\n",
    "myframe.pack(padx=140,pady=10)    # to check the location of frame\n",
    "\n",
    "# create label\n",
    "mylabel=Label(myframe,text=\"this is label\")\n",
    "mylabel.pack()\n",
    " \n",
    "# create button\n",
    "mybutton=Button(myframe,text=\"This is Button\")\n",
    "mybutton.pack()\n",
    "win.mainloop()"
   ]
  },
  {
   "cell_type": "code",
   "execution_count": 21,
   "metadata": {},
   "outputs": [],
   "source": [
    "# create radio button\n",
    "win=Tk()\n",
    "r=IntVar()   # used to provide variable in tkinter \n",
    "r.set('2')\n",
    "def onclick(value):\n",
    "    global mylabel\n",
    "    mylabel.destroy()\n",
    "    mylabel=Label(win,text=value)\n",
    "    mylabel.pack()\n",
    "\n",
    "# create radio button\n",
    "Radiobutton(win,text='Option 1',variable=r,value=1,command=lambda:onclick(r.get())).pack()\n",
    "Radiobutton(win,text='Option 2',variable=r,value=2,command=lambda:onclick(r.get())).pack()\n",
    "Radiobutton(win,text='Option 3',variable=r,value=3,command=lambda:onclick(r.get())).pack()\n",
    "\n",
    "mylabel=Label(win,text=r.get())\n",
    "mylabel.pack()\n",
    "\n",
    "win.mainloop()"
   ]
  },
  {
   "cell_type": "code",
   "execution_count": null,
   "metadata": {},
   "outputs": [],
   "source": [
    "# message box\n",
    "from tkinter import *\n",
    "win=Tk()\n",
    "win.geometry(\"1500x300\")\n",
    "\n",
    "def messagedisplay():\n",
    "    messagebox.showinfo(\"Warning\",\"you have clicked the button\")\n",
    "mylabel=Label(win,text=\"hello\",font=20)\n",
    "mylabel.pack(pady=50)\n",
    "\n",
    "mybutton=Button(win,text=\"dont click me\",command=messagedisplay)\n",
    "mybutton.pack()\n",
    "\n",
    "win.mainloop()"
   ]
  },
  {
   "cell_type": "code",
   "execution_count": null,
   "metadata": {},
   "outputs": [],
   "source": [
    "# destroy the widget or window\n",
    "win=Tk()\n",
    "win.geometry(\"750x250\")\n",
    "\n",
    "def click():\n",
    "    mylabel.destroy()\n",
    "    win.destroy()\n",
    "mylabel=Label(win,text=\"hello\")\n",
    "mylabel.pack()\n",
    "\n",
    "mybutton=Button(win,text=\"cancel\",command=click)\n",
    "mybutton.pack()\n",
    "\n",
    "win.mainloop()"
   ]
  },
  {
   "cell_type": "code",
   "execution_count": 20,
   "metadata": {},
   "outputs": [],
   "source": [
    "# canvas : to draw the shape or figure or style\n",
    "from tkinter import *\n",
    "win=Tk()\n",
    "win.geometry(\"750x250\")\n",
    "\n",
    "def style():\n",
    "    label.configure(font=('impact',25,'italic'),fg='white',bg='black')\n",
    "    button.configure(text='close',command=lambda:win.destroy())\n",
    "# create canvas\n",
    "canvas=Canvas(win,width=600,height=200,bg='bisque')\n",
    "canvas.pack(fill=BOTH,expand=True)\n",
    "\n",
    "# create rectangle\n",
    "canvas.create_rectangle(50,20,80,40,fill='red')\n",
    "\n",
    "#create Label inside of canvas\n",
    "label=Label(canvas,text=\"welcome students\",font=20)\n",
    "label.pack(pady=14)\n",
    "# create button insdie of canvas\n",
    "button=Button(canvas,text='click',command=style)\n",
    "button.pack(pady=20)\n",
    "win.mainloop()"
   ]
  },
  {
   "attachments": {},
   "cell_type": "markdown",
   "metadata": {},
   "source": [
    "# Simple Calculator app"
   ]
  },
  {
   "cell_type": "code",
   "execution_count": 39,
   "metadata": {},
   "outputs": [],
   "source": [
    "from tkinter import *\n",
    "root=Tk()\n",
    "root.title(\"Simple Calculator\")\n",
    "# creating main frame\n",
    "mainframe=Frame(root,width=45,bd=10,relief=RIDGE,bg=\"blue\")\n",
    "mainframe.pack()\n",
    "inner=Frame(mainframe,width=45,bd=10,relief=RIDGE,bg=\"black\")\n",
    "inner.pack()\n",
    "e=Entry(inner,width=65,borderwidth=5)\n",
    "e.grid(row=0,column=0,columnspan=4,padx=10,pady=1)\n",
    "\n",
    "def onclick(num):\n",
    "    x=e.get()\n",
    "    e.delete(0,END)\n",
    "    e.insert(0,str(x)+str(num))\n",
    "    \n",
    "def clear():\n",
    "    e.delete(0,END)\n",
    "    \n",
    "def add():\n",
    "    global first,op\n",
    "    op='+'\n",
    "    first=e.get()\n",
    "    e.delete(0,END)\n",
    "    \n",
    "def sub():\n",
    "    global first,op\n",
    "    op='-'\n",
    "    first=e.get()\n",
    "    e.delete(0,END)\n",
    "    \n",
    "def mul():\n",
    "    global first,op\n",
    "    op='*'\n",
    "    first=e.get()\n",
    "    e.delete(0,END)\n",
    "    \n",
    "def div():\n",
    "    global first,op\n",
    "    op='/'\n",
    "    first=e.get()\n",
    "    e.delete(0,END)\n",
    "    \n",
    "def equal():\n",
    "    second=e.get()\n",
    "    if op=='+':\n",
    "        result=float(first)+float(second)\n",
    "    elif op=='-':\n",
    "        result=float(first)-float(second)\n",
    "    elif op=='*':\n",
    "        result=float(first)*float(second)\n",
    "    elif op=='/':\n",
    "        result=float(first)/float(second)\n",
    "    e.delete(0,END)\n",
    "    e.insert(0,result)\n",
    "############################################################\n",
    "                        ####Button widget####\n",
    "button_1=Button(inner,text='1',padx=30,pady=10,relief=RIDGE,font=15,width=4,\n",
    "                command=lambda:onclick(1))\n",
    "button_2=Button(inner,text='2',padx=30,pady=10,relief=RIDGE,font=15,width=4,\n",
    "                command=lambda:onclick(2))\n",
    "button_3=Button(inner,text='3',padx=30,pady=10,relief=RIDGE,font=15,width=4,\n",
    "                command=lambda:onclick(3))\n",
    "button_4=Button(inner,text='4',padx=30,pady=10,relief=RIDGE,font=15,width=4,\n",
    "                command=lambda:onclick(4))\n",
    "button_5=Button(inner,text='5',padx=30,pady=10,relief=RIDGE,font=15,width=4,\n",
    "                command=lambda:onclick(5))\n",
    "button_6=Button(inner,text='6',padx=30,pady=10,relief=RIDGE,font=15,width=4,\n",
    "                command=lambda:onclick(6))\n",
    "button_7=Button(inner,text='7',padx=30,pady=10,relief=RIDGE,font=15,width=4,\n",
    "                command=lambda:onclick(7))\n",
    "button_8=Button(inner,text='8',padx=30,pady=10,relief=RIDGE,font=15,width=4,\n",
    "                command=lambda:onclick(8))\n",
    "button_9=Button(inner,text='9',padx=30,pady=10,relief=RIDGE,font=15,width=4,\n",
    "                command=lambda:onclick(9))\n",
    "button_0=Button(inner,text='0',padx=30,pady=10,relief=RIDGE,font=15,width=4,\n",
    "                command=lambda:onclick(0))\n",
    "\n",
    "# operation button\n",
    "button_add=Button(inner,text='+',padx=30,pady=10,relief=RIDGE,font=15,width=4,\n",
    "                  command=add)\n",
    "button_sub=Button(inner,text='-',padx=30,pady=10,relief=RIDGE,font=15,width=4,command=sub)\n",
    "button_mul=Button(inner,text='*',padx=30,pady=10,relief=RIDGE,font=15,width=4,command=mul)\n",
    "button_div=Button(inner,text='/',padx=30,pady=10,relief=RIDGE,font=15,width=4,command=div)\n",
    "button_equal=Button(inner,text='=',padx=30,pady=10,relief=RIDGE,font=15,width=4,command=equal)\n",
    "button_clear=Button(inner,text='C',padx=30,pady=10,relief=RIDGE,font=15,width=4,command=clear)\n",
    "\n",
    "#####place the number button######\n",
    "button_1.grid(row=3,column=0)\n",
    "button_2.grid(row=3,column=1)\n",
    "button_3.grid(row=3,column=2)\n",
    "button_4.grid(row=2,column=0)\n",
    "button_5.grid(row=2,column=1)\n",
    "button_6.grid(row=2,column=2)\n",
    "button_7.grid(row=1,column=0)\n",
    "button_8.grid(row=1,column=1)\n",
    "button_9.grid(row=1,column=2)\n",
    "button_0.grid(row=4,column=0)\n",
    "\n",
    "button_add.grid(row=1,column=3)\n",
    "button_sub.grid(row=2,column=3)\n",
    "button_mul.grid(row=3,column=3)\n",
    "button_div.grid(row=4,column=3)\n",
    "button_equal.grid(row=4,column=2)\n",
    "button_clear.grid(row=4,column=1)\n",
    "root.mainloop()"
   ]
  },
  {
   "cell_type": "code",
   "execution_count": 19,
   "metadata": {},
   "outputs": [],
   "source": [
    "# Change the color upon hovering over Button in Tkinter\n",
    "\n",
    "win= Tk()\n",
    "win.geometry(\"750x250\")\n",
    "#Define functions\n",
    "def on_enter(e):\n",
    "    button.config(background='OrangeRed3', foreground= \"white\")\n",
    "\n",
    "def on_leave(e):\n",
    "    button.config(background= 'SystemButtonFace', foreground= 'black')\n",
    "\n",
    "    \n",
    "button= Button(win, text= \"Click Me\", font= ('Helvetica 13 bold'))\n",
    "button.pack(pady= 20)\n",
    "\n",
    "#Bind the Enter and Leave Events to the Button\n",
    "button.bind('<Enter>', on_enter)\n",
    "button.bind('<Leave>', on_leave)\n",
    "\n",
    "win.mainloop()"
   ]
  },
  {
   "cell_type": "code",
   "execution_count": 18,
   "metadata": {},
   "outputs": [],
   "source": [
    "# Automatically close window after a certain time in Tkinter\n",
    "\n",
    "win = Tk()\n",
    "win.geometry(\"750x270\")\n",
    "\n",
    "Label(win, text= \"This window will get closed after 5 seconds...\",\n",
    "font=('Helvetica 20 bold')).pack(pady=20)\n",
    "\n",
    "#Automatically close the window after 5 seconds\n",
    "win.after(5000,lambda:win.destroy())\n",
    "\n",
    "win.mainloop()"
   ]
  },
  {
   "cell_type": "code",
   "execution_count": 17,
   "metadata": {},
   "outputs": [],
   "source": [
    "#creating a listbox widgets\n",
    "from tkinter import *\n",
    "\n",
    "import tkinter\n",
    "\n",
    "win = Tk()\n",
    "win.geometry(\"750x270\")\n",
    "Lb1 = Listbox(win)\n",
    "Lb1.insert(1, \"Python\")\n",
    "Lb1.insert(2, \"Perl\")\n",
    "Lb1.insert(3, \"C\")\n",
    "Lb1.insert(4, \"PHP\")\n",
    "Lb1.insert(5, \"JSP\")\n",
    "Lb1.insert(6, \"Ruby\")\n",
    "\n",
    "Lb1.pack()\n",
    "win.mainloop()"
   ]
  },
  {
   "cell_type": "code",
   "execution_count": 16,
   "metadata": {},
   "outputs": [],
   "source": [
    "# Combobox widget using tkinter\n",
    "  \n",
    "import tkinter as tk\n",
    "from tkinter import ttk\n",
    "  \n",
    "# Creating tkinter window\n",
    "window = tk.Tk()\n",
    "window.title('Combobox')\n",
    "window.geometry('500x250')\n",
    "  \n",
    "# label text for title\n",
    "ttk.Label(window, text = \"GFG Combobox Widget\", \n",
    "          background = 'green', foreground =\"white\", \n",
    "          font = (\"Times New Roman\", 15)).grid(row = 0, column = 1)\n",
    "  \n",
    "# label\n",
    "ttk.Label(window, text = \"Select the Month :\",\n",
    "          font = (\"Times New Roman\", 10)).grid(column = 0,\n",
    "          row = 5, padx = 10, pady = 25)\n",
    "  \n",
    "# Combobox creation\n",
    "n = tk.StringVar()\n",
    "monthchoosen = ttk.Combobox(window, width = 27, textvariable = n)\n",
    "  \n",
    "# Adding combobox drop down list\n",
    "monthchoosen['values'] = (' January', \n",
    "                          ' February',\n",
    "                          ' March',\n",
    "                          ' April',\n",
    "                          ' May',\n",
    "                          ' June',\n",
    "                          ' July',\n",
    "                          ' August',\n",
    "                          ' September',\n",
    "                          ' October',\n",
    "                          ' November',\n",
    "                          ' December')\n",
    "  \n",
    "monthchoosen.grid(column = 1, row = 5)\n",
    "window.mainloop()"
   ]
  },
  {
   "attachments": {},
   "cell_type": "markdown",
   "metadata": {},
   "source": [
    "# ipywidgets"
   ]
  },
  {
   "attachments": {},
   "cell_type": "markdown",
   "metadata": {},
   "source": [
    "Simple Widget Introduction\n",
    "What are widgets?\n",
    "Widgets are eventful python objects that have a representation in the browser, often as a control like a slider, textbox, etc.\n",
    "\n",
    "What can they be used for?\n",
    "You can use widgets to build interactive GUIs for your notebooks.\n",
    "You can also use widgets to synchronize stateful and stateless information between Python and JavaScript.\n",
    "Using widgets\n",
    "To use the widget framework, you need to import ipywidgets.\n"
   ]
  },
  {
   "cell_type": "code",
   "execution_count": 2,
   "metadata": {},
   "outputs": [],
   "source": [
    "import ipywidgets as widgets"
   ]
  },
  {
   "cell_type": "code",
   "execution_count": 7,
   "metadata": {},
   "outputs": [
    {
     "name": "stdout",
     "output_type": "stream",
     "text": [
      "Help on package ipywidgets:\n",
      "\n",
      "NAME\n",
      "    ipywidgets - Interactive widgets for the Jupyter notebook.\n",
      "\n",
      "DESCRIPTION\n",
      "    Provide simple interactive controls in the notebook.\n",
      "    Each Widget corresponds to an object in Python and Javascript,\n",
      "    with controls on the page.\n",
      "    \n",
      "    To put a Widget on the page, you can display it with IPython's display machinery::\n",
      "    \n",
      "        from ipywidgets import IntSlider\n",
      "        from IPython.display import display\n",
      "        slider = IntSlider(min=1, max=10)\n",
      "        display(slider)\n",
      "    \n",
      "    Moving the slider will change the value. Most Widgets have a current value,\n",
      "    accessible as a `value` attribute.\n",
      "\n",
      "PACKAGE CONTENTS\n",
      "    _version\n",
      "    embed\n",
      "    tests (package)\n",
      "    widgets (package)\n",
      "\n",
      "SUBMODULES\n",
      "    docutils\n",
      "    domwidget\n",
      "    interaction\n",
      "    trait_types\n",
      "    util\n",
      "    valuewidget\n",
      "    widget\n",
      "    widget_bool\n",
      "    widget_box\n",
      "    widget_button\n",
      "    widget_color\n",
      "    widget_controller\n",
      "    widget_core\n",
      "    widget_date\n",
      "    widget_description\n",
      "    widget_float\n",
      "    widget_int\n",
      "    widget_layout\n",
      "    widget_link\n",
      "    widget_media\n",
      "    widget_output\n",
      "    widget_selection\n",
      "    widget_selectioncontainer\n",
      "    widget_string\n",
      "    widget_style\n",
      "    widget_templates\n",
      "    widget_upload\n",
      "\n",
      "FUNCTIONS\n",
      "    handle_kernel = register_comm_target(kernel=None)\n",
      "        Register the jupyter.widget comm target\n",
      "    \n",
      "    load_ipython_extension(ip)\n",
      "        Set up IPython to work with widgets\n",
      "    \n",
      "    register_comm_target(kernel=None)\n",
      "        Register the jupyter.widget comm target\n",
      "\n",
      "DATA\n",
      "    __jupyter_widgets_base_version__ = '1.2.0'\n",
      "    __jupyter_widgets_controls_version__ = '1.5.0'\n",
      "    __protocol_version__ = '2.0.0'\n",
      "    interact = <ipywidgets.widgets.interaction._InteractFactory object>\n",
      "    interact_manual = <ipywidgets.widgets.interaction._InteractFactory obj...\n",
      "    version_info = (7, 6, 5, 'final', 0)\n",
      "    widget_serialization = {'from_json': <function _json_to_widget>, 'to_j...\n",
      "\n",
      "VERSION\n",
      "    7.6.5\n",
      "\n",
      "FILE\n",
      "    c:\\programdata\\anaconda3\\lib\\site-packages\\ipywidgets\\__init__.py\n",
      "\n",
      "\n"
     ]
    }
   ],
   "source": [
    "help(widgets)"
   ]
  },
  {
   "cell_type": "code",
   "execution_count": 12,
   "metadata": {},
   "outputs": [
    {
     "data": {
      "application/vnd.jupyter.widget-view+json": {
       "model_id": "b6ba339198bf47508ccc2836bdf4c1ca",
       "version_major": 2,
       "version_minor": 0
      },
      "text/plain": [
       "IntSlider(value=0, description='Integer slider:', max=25, min=-5)"
      ]
     },
     "metadata": {},
     "output_type": "display_data"
    }
   ],
   "source": [
    "widgets.IntSlider(\n",
    "    value=0,\n",
    "    min=-5,\n",
    "    max=25,\n",
    "    step=1,\n",
    "    description='Integer slider:',\n",
    "    )"
   ]
  },
  {
   "cell_type": "code",
   "execution_count": 15,
   "metadata": {},
   "outputs": [
    {
     "data": {
      "application/vnd.jupyter.widget-view+json": {
       "model_id": "5aa1f53fe1954e8e967287dd911410af",
       "version_major": 2,
       "version_minor": 0
      },
      "text/plain": [
       "FloatSlider(value=7.5, continuous_update=False, description='Test:', max=10.0, step=0.01)"
      ]
     },
     "metadata": {},
     "output_type": "display_data"
    }
   ],
   "source": [
    "widgets.FloatSlider(\n",
    "    value=7.5,\n",
    "    min=0,\n",
    "    max=10.0,\n",
    "    step=0.01,\n",
    "    description='Test:',\n",
    "    disabled=False,\n",
    "    continuous_update=False,\n",
    "    orientation='horizontal',\n",
    "    readout=True,\n",
    "    readout_format='.2f',\n",
    ")"
   ]
  },
  {
   "cell_type": "code",
   "execution_count": 96,
   "metadata": {},
   "outputs": [
    {
     "data": {
      "application/vnd.jupyter.widget-view+json": {
       "model_id": "04b6be4ea51c42b9827aba220a81c913",
       "version_major": 2,
       "version_minor": 0
      },
      "text/plain": [
       "FloatLogSlider(value=10.0, description='Log Slider', max=10.0, min=-10.0, step=0.2)"
      ]
     },
     "metadata": {},
     "output_type": "display_data"
    }
   ],
   "source": [
    "widgets.FloatLogSlider(\n",
    "    value=10,\n",
    "    base=10,\n",
    "    min=-10, # max exponent of base\n",
    "    max=10, # min exponent of base\n",
    "    step=0.2, # exponent step\n",
    "    description='Log Slider'\n",
    ")"
   ]
  },
  {
   "cell_type": "code",
   "execution_count": 97,
   "metadata": {},
   "outputs": [
    {
     "data": {
      "application/vnd.jupyter.widget-view+json": {
       "model_id": "8dff925234b24d3592c0c9bf3ee3e075",
       "version_major": 2,
       "version_minor": 0
      },
      "text/plain": [
       "IntRangeSlider(value=(5, 7), continuous_update=False, description='Test:', max=10)"
      ]
     },
     "metadata": {},
     "output_type": "display_data"
    }
   ],
   "source": [
    "widgets.IntRangeSlider(\n",
    "    value=[5, 7],\n",
    "    min=0,\n",
    "    max=10,\n",
    "    step=1,\n",
    "    description='Test:',\n",
    "    disabled=False,\n",
    "    continuous_update=False,\n",
    "    orientation='horizontal',\n",
    "    readout=True,\n",
    "    readout_format='d',\n",
    ")"
   ]
  },
  {
   "cell_type": "code",
   "execution_count": 98,
   "metadata": {},
   "outputs": [
    {
     "data": {
      "application/vnd.jupyter.widget-view+json": {
       "model_id": "017e315460344f368de8a86f62e72d76",
       "version_major": 2,
       "version_minor": 0
      },
      "text/plain": [
       "IntProgress(value=7, bar_style='info', description='Copying:', max=10, style=ProgressStyle(bar_color='Green'))"
      ]
     },
     "metadata": {},
     "output_type": "display_data"
    }
   ],
   "source": [
    "widgets.IntProgress(\n",
    "    value=7,\n",
    "    min=0,\n",
    "    max=10,\n",
    "    description='Copying:',\n",
    "    bar_style='info',\n",
    "    style={'bar_color': 'Green'},\n",
    "    orientation='horizontal'\n",
    ")"
   ]
  },
  {
   "cell_type": "code",
   "execution_count": 99,
   "metadata": {},
   "outputs": [
    {
     "data": {
      "application/vnd.jupyter.widget-view+json": {
       "model_id": "e6aef37d4aff481d92d2d88bd3d8b9ad",
       "version_major": 2,
       "version_minor": 0
      },
      "text/plain": [
       "BoundedIntText(value=7, description='Text:', max=10)"
      ]
     },
     "metadata": {},
     "output_type": "display_data"
    }
   ],
   "source": [
    "widgets.BoundedIntText(\n",
    "    value=7,\n",
    "    min=0,\n",
    "    max=10,\n",
    "    step=1,\n",
    "    description='Text:',\n",
    "    disabled=False\n",
    ")"
   ]
  },
  {
   "cell_type": "code",
   "execution_count": 100,
   "metadata": {},
   "outputs": [
    {
     "data": {
      "application/vnd.jupyter.widget-view+json": {
       "model_id": "2092fae7f7074eee87750e86fff10800",
       "version_major": 2,
       "version_minor": 0
      },
      "text/plain": [
       "Checkbox(value=False, description='Check me', indent=False)"
      ]
     },
     "metadata": {},
     "output_type": "display_data"
    }
   ],
   "source": [
    "widgets.Checkbox(\n",
    "    value=False,\n",
    "    description='Check me',\n",
    "    disabled=False,\n",
    "    indent=False\n",
    ")"
   ]
  },
  {
   "cell_type": "code",
   "execution_count": 101,
   "metadata": {},
   "outputs": [
    {
     "data": {
      "application/vnd.jupyter.widget-view+json": {
       "model_id": "c98995459fbb4ed4b88cf97f8baef6f6",
       "version_major": 2,
       "version_minor": 0
      },
      "text/plain": [
       "RadioButtons(description='Pizza topping:', index=1, options=('pepperoni', 'pineapple', 'anchovies'), value='pi…"
      ]
     },
     "metadata": {},
     "output_type": "display_data"
    }
   ],
   "source": [
    "widgets.RadioButtons(\n",
    "    options=['pepperoni', 'pineapple', 'anchovies'],\n",
    "    value='pineapple', # Defaults to 'pineapple'\n",
    "    description='Pizza topping:',\n",
    "    disabled=False\n",
    ")"
   ]
  },
  {
   "cell_type": "code",
   "execution_count": 103,
   "metadata": {},
   "outputs": [
    {
     "data": {
      "application/vnd.jupyter.widget-view+json": {
       "model_id": "71d16667ba2947eeae18f592a85e3589",
       "version_major": 2,
       "version_minor": 0
      },
      "text/plain": [
       "Dropdown(description='Number:', index=1, options=(('One', 1), ('Two', 2), ('Three', 3)), value=2)"
      ]
     },
     "metadata": {},
     "output_type": "display_data"
    }
   ],
   "source": [
    "w=widgets.Dropdown(\n",
    "    options=[('One', 1), ('Two', 2), ('Three', 3)],\n",
    "    value=2,\n",
    "    description='Number:',\n",
    ")\n",
    "\n",
    "display(w)"
   ]
  },
  {
   "cell_type": "code",
   "execution_count": 104,
   "metadata": {},
   "outputs": [
    {
     "data": {
      "application/vnd.jupyter.widget-view+json": {
       "model_id": "b6f0897c661648038b04b2088300b8e8",
       "version_major": 2,
       "version_minor": 0
      },
      "text/plain": [
       "Text(value='Hello World', description='Data:', placeholder='Type something')"
      ]
     },
     "metadata": {},
     "output_type": "display_data"
    }
   ],
   "source": [
    "widgets.Text(\n",
    "    value='Hello World',\n",
    "    placeholder='Type something',\n",
    "    description='Data:',\n",
    "    disabled=False\n",
    ")"
   ]
  },
  {
   "cell_type": "code",
   "execution_count": 12,
   "metadata": {},
   "outputs": [
    {
     "ename": "NameError",
     "evalue": "name 'widgets' is not defined",
     "output_type": "error",
     "traceback": [
      "\u001b[1;31m---------------------------------------------------------------------------\u001b[0m",
      "\u001b[1;31mNameError\u001b[0m                                 Traceback (most recent call last)",
      "\u001b[1;32m~\\AppData\\Local\\Temp/ipykernel_10668/957428264.py\u001b[0m in \u001b[0;36m<module>\u001b[1;34m\u001b[0m\n\u001b[1;32m----> 1\u001b[1;33m widgets.Textarea(\n\u001b[0m\u001b[0;32m      2\u001b[0m     \u001b[0mvalue\u001b[0m\u001b[1;33m=\u001b[0m\u001b[1;34m'Hello World'\u001b[0m\u001b[1;33m,\u001b[0m\u001b[1;33m\u001b[0m\u001b[1;33m\u001b[0m\u001b[0m\n\u001b[0;32m      3\u001b[0m     \u001b[0mplaceholder\u001b[0m\u001b[1;33m=\u001b[0m\u001b[1;34m'Type something'\u001b[0m\u001b[1;33m,\u001b[0m\u001b[1;33m\u001b[0m\u001b[1;33m\u001b[0m\u001b[0m\n\u001b[0;32m      4\u001b[0m     \u001b[0mdescription\u001b[0m\u001b[1;33m=\u001b[0m\u001b[1;34m'String:'\u001b[0m\u001b[1;33m,\u001b[0m\u001b[1;33m\u001b[0m\u001b[1;33m\u001b[0m\u001b[0m\n\u001b[0;32m      5\u001b[0m     \u001b[0mdisabled\u001b[0m\u001b[1;33m=\u001b[0m\u001b[1;32mFalse\u001b[0m\u001b[1;33m\u001b[0m\u001b[1;33m\u001b[0m\u001b[0m\n",
      "\u001b[1;31mNameError\u001b[0m: name 'widgets' is not defined"
     ]
    }
   ],
   "source": [
    "widgets.Textarea(\n",
    "    value='Hello World',\n",
    "    placeholder='Type something',\n",
    "    description='String:',\n",
    "    disabled=False\n",
    ")"
   ]
  },
  {
   "cell_type": "code",
   "execution_count": 11,
   "metadata": {},
   "outputs": [
    {
     "ename": "NameError",
     "evalue": "name 'widgets' is not defined",
     "output_type": "error",
     "traceback": [
      "\u001b[1;31m---------------------------------------------------------------------------\u001b[0m",
      "\u001b[1;31mNameError\u001b[0m                                 Traceback (most recent call last)",
      "\u001b[1;32m~\\AppData\\Local\\Temp/ipykernel_10668/1108474670.py\u001b[0m in \u001b[0;36m<module>\u001b[1;34m\u001b[0m\n\u001b[1;32m----> 1\u001b[1;33m widgets.Password(\n\u001b[0m\u001b[0;32m      2\u001b[0m     \u001b[0mvalue\u001b[0m\u001b[1;33m=\u001b[0m\u001b[1;34m'password'\u001b[0m\u001b[1;33m,\u001b[0m\u001b[1;33m\u001b[0m\u001b[1;33m\u001b[0m\u001b[0m\n\u001b[0;32m      3\u001b[0m     \u001b[0mplaceholder\u001b[0m\u001b[1;33m=\u001b[0m\u001b[1;34m'Enter password'\u001b[0m\u001b[1;33m,\u001b[0m\u001b[1;33m\u001b[0m\u001b[1;33m\u001b[0m\u001b[0m\n\u001b[0;32m      4\u001b[0m     \u001b[0mdescription\u001b[0m\u001b[1;33m=\u001b[0m\u001b[1;34m'Password:'\u001b[0m\u001b[1;33m,\u001b[0m\u001b[1;33m\u001b[0m\u001b[1;33m\u001b[0m\u001b[0m\n\u001b[0;32m      5\u001b[0m     \u001b[0mdisabled\u001b[0m\u001b[1;33m=\u001b[0m\u001b[1;32mFalse\u001b[0m\u001b[1;33m\u001b[0m\u001b[1;33m\u001b[0m\u001b[0m\n",
      "\u001b[1;31mNameError\u001b[0m: name 'widgets' is not defined"
     ]
    }
   ],
   "source": [
    "widgets.Password(\n",
    "    value='password',\n",
    "    placeholder='Enter password',\n",
    "    description='Password:',\n",
    "    disabled=False\n",
    ")"
   ]
  },
  {
   "attachments": {},
   "cell_type": "markdown",
   "metadata": {},
   "source": [
    "https://ipywidgets.readthedocs.io/en/latest/examples/Widget%20List.html"
   ]
  }
 ],
 "metadata": {
  "kernelspec": {
   "display_name": "Python 3 (ipykernel)",
   "language": "python",
   "name": "python3"
  },
  "language_info": {
   "codemirror_mode": {
    "name": "ipython",
    "version": 3
   },
   "file_extension": ".py",
   "mimetype": "text/x-python",
   "name": "python",
   "nbconvert_exporter": "python",
   "pygments_lexer": "ipython3",
   "version": "3.9.7"
  }
 },
 "nbformat": 4,
 "nbformat_minor": 4
}
